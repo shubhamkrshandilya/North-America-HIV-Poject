{
 "cells": [
  {
   "cell_type": "code",
   "execution_count": 1,
   "metadata": {},
   "outputs": [],
   "source": [
    "import pandas as pd\n",
    "from bs4 import BeautifulSoup\n",
    "import urllib.request as urllib2\n"
   ]
  },
  {
   "cell_type": "code",
   "execution_count": null,
   "metadata": {
    "scrolled": false
   },
   "outputs": [
    {
     "name": "stderr",
     "output_type": "stream",
     "text": [
      "C:\\ProgramData\\Anaconda3\\lib\\site-packages\\bs4\\__init__.py:181: UserWarning: No parser was explicitly specified, so I'm using the best available HTML parser for this system (\"lxml\"). This usually isn't a problem, but if you run this code on another system, or in a different virtual environment, it may use a different parser and behave differently.\n",
      "\n",
      "The code that caused this warning is on line 193 of the file C:\\ProgramData\\Anaconda3\\lib\\runpy.py. To get rid of this warning, change code that looks like this:\n",
      "\n",
      " BeautifulSoup(YOUR_MARKUP})\n",
      "\n",
      "to this:\n",
      "\n",
      " BeautifulSoup(YOUR_MARKUP, \"lxml\")\n",
      "\n",
      "  markup_type=markup_type))\n"
     ]
    }
   ],
   "source": [
    "Type = []\n",
    "Title = []\n",
    "#Date = []\n",
    "#Author = []\n",
    "Content = []\n",
    "\n",
    "for i in range(1,8):\n",
    "    url = \"https://ottawacitizen.com/page/\"+str(i)+\"?s=hiv+aids\"\n",
    "    html_page = urllib2.urlopen(url)\n",
    "    #html_page = urllib2.urlopen(url)\n",
    "    soup = BeautifulSoup(html_page)\n",
    "\n",
    "# Extract the title of the article\n",
    "    items = soup.find_all(\"article\")\n",
    "    #print(items)\n",
    "    \n",
    "\n",
    "    for item in items:\n",
    "        Reg = item.find(\"span\", attrs={\"class\": \"label\"})\n",
    "        Tit = item.find(\"h3\", attrs={\"class\": \"entry-title\"})\n",
    "        #print(Tit)\n",
    "        #Dat = item.find(\"span\", attrs={\"class\": \"o-card__meta-time\"})\n",
    "        #Aut = item.find(\"span\", attrs={\"class\": \"o-card__meta-authors\"})\n",
    "        Con = item.find(\"div\", attrs={\"class\": \"entry-content\"})\n",
    "        #Date.append(Dat.text)\n",
    "        \n",
    "        \n",
    "        #print(Dat)\n",
    "        if Tit == None:\n",
    "            continue\n",
    "        Title.append(Tit.text)\n",
    "        if Reg != None:\n",
    "            Type.append(Reg.text)\n",
    "        else:\n",
    "            Type.append(\"None\")\n",
    "        #print(Tit.text)\n",
    "        #if Dat.has_attr('datetime'):\n",
    "            #Date.append(Dat['datetime'])\n",
    "\n",
    "        '''if Aut != None:\n",
    "            Author.append(Aut.text)\n",
    "        else:\n",
    "            Author.append(\"None\")'''\n",
    "        if Con != None:\n",
    "             Content.append(Con.text)\n",
    "        else:\n",
    "            Content.append(\"Not Available\")\n",
    "    #print(len(Title))\n",
    "   "
   ]
  },
  {
   "cell_type": "code",
   "execution_count": null,
   "metadata": {},
   "outputs": [],
   "source": [
    "d = {'Title': Title, 'Type': Type, 'Content': Content}\n",
    "df = pd.DataFrame(data=d)"
   ]
  },
  {
   "cell_type": "code",
   "execution_count": null,
   "metadata": {
    "scrolled": true
   },
   "outputs": [],
   "source": [
    "df"
   ]
  },
  {
   "cell_type": "code",
   "execution_count": null,
   "metadata": {},
   "outputs": [],
   "source": [
    "\n",
    "newContent = []"
   ]
  },
  {
   "cell_type": "code",
   "execution_count": null,
   "metadata": {},
   "outputs": [],
   "source": [
    "for i in df['Content']:\n",
    "    i = i.replace('\\n', '')\n",
    "    i = i.replace('\\t', '')\n",
    "    newContent.append(i)"
   ]
  },
  {
   "cell_type": "code",
   "execution_count": null,
   "metadata": {},
   "outputs": [],
   "source": [
    "d = {'Title': Title, 'Type': Type, 'Content': newContent}\n",
    "df = pd.DataFrame(data=d)"
   ]
  },
  {
   "cell_type": "code",
   "execution_count": null,
   "metadata": {},
   "outputs": [],
   "source": [
    "df.to_csv('Now_Grenada.csv',index=False)"
   ]
  },
  {
   "cell_type": "code",
   "execution_count": null,
   "metadata": {},
   "outputs": [],
   "source": [
    "df"
   ]
  }
 ],
 "metadata": {
  "kernelspec": {
   "display_name": "Python 3",
   "language": "python",
   "name": "python3"
  },
  "language_info": {
   "codemirror_mode": {
    "name": "ipython",
    "version": 3
   },
   "file_extension": ".py",
   "mimetype": "text/x-python",
   "name": "python",
   "nbconvert_exporter": "python",
   "pygments_lexer": "ipython3",
   "version": "3.6.5"
  }
 },
 "nbformat": 4,
 "nbformat_minor": 2
}
